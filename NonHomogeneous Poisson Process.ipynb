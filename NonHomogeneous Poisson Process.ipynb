{
 "cells": [
  {
   "cell_type": "code",
   "execution_count": null,
   "metadata": {},
   "outputs": [],
   "source": [
    "import numpy as np\n",
    "import matplotlib.pyplot as plt\n",
    "\n",
    "max_time = 100\n",
    "\n",
    "def nu(time):\n",
    "    return 1/(time+1)\n",
    "\n",
    "max_nu = nu(max_time)\n",
    "contador = {\n",
    "    'T': [0],\n",
    "    'N': [0]\n",
    "}\n",
    "t = 0\n",
    "i = 0 \n",
    "while t <= max_time:\n",
    "    \n",
    "\n"
   ]
  }
 ],
 "metadata": {
  "kernelspec": {
   "display_name": "myenv",
   "language": "python",
   "name": "python3"
  },
  "language_info": {
   "name": "python",
   "version": "3.13.1"
  }
 },
 "nbformat": 4,
 "nbformat_minor": 2
}
